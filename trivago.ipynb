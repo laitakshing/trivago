{
 "metadata": {
  "language_info": {
   "codemirror_mode": {
    "name": "ipython",
    "version": 3
   },
   "file_extension": ".py",
   "mimetype": "text/x-python",
   "name": "python",
   "nbconvert_exporter": "python",
   "pygments_lexer": "ipython3",
   "version": "3.8.5-final"
  },
  "orig_nbformat": 2,
  "kernelspec": {
   "name": "Python 3.8.5 64-bit",
   "display_name": "Python 3.8.5 64-bit",
   "metadata": {
    "interpreter": {
     "hash": "082e9a3bcad0a290d0001e938aa60b99250c6c2ef33a923c00b70f9826caf4b7"
    }
   }
  }
 },
 "nbformat": 4,
 "nbformat_minor": 2,
 "cells": [
  {
   "cell_type": "code",
   "execution_count": 112,
   "metadata": {},
   "outputs": [],
   "source": [
    "l =[\n",
    "{\n",
    "  \"partner_name\": \"Partner_B\",\n",
    "  \"accommodation_id\": \"101\", \n",
    "  \"accommodation_data\":{\n",
    "\"accommodation_name\":\"The Grand Budapest Hotel\", \"accommodation_address\":\"Budastrasse 71\", \"accommodation_geocodes\":\"101,102\", \"accommodation_city\":\"Budapest\"\n",
    "} },\n",
    "  {\n",
    "  \"partner_name\": \"Partner_C\",\n",
    "  \"accommodation_id\" :\"101\",\n",
    "  \"accommodation_data\":{\n",
    "\"accommodation_name\":\"The Budapest Hotel\", \"accommodation_address\":\"Budastrasse 88\", \"accommodation_geocodes\":\"101,103\", \"accommodation_city\":\"Budapest\"\n",
    "    }\n",
    "} ]\n",
    "\n",
    "p =[\"Partner_A\"\n",
    "\"Partner_B\"\n",
    "\"Partner_C\"]\n",
    "\n",
    "'''\n",
    "1. read 2 input file to list and dict\n",
    "2. logic change\n",
    "3. output 1 single output file\n",
    "\n",
    "expected Error:\n",
    "1. file format, no such file, wrong format\n",
    "2. no parter in parter priority list\n",
    "'''\n",
    "os.chdir('/Users/tak/Desktop/Tak/project/trivago/')\n",
    "# with open('part_list.txt', 'w') as p:\n",
    "#     p.write(\"\"\"\n",
    "#     [\n",
    "# {\n",
    "#   \"partner_name\": \"Partner_B\",\n",
    "#   \"accommodation_id\": \"101\", \n",
    "#   \"accommodation_data\":{\n",
    "# \"accommodation_name\":\"The Grand Budapest Hotel\", \"accommodation_address\":\"Budastrasse 71\", \"accommodation_geocodes\":\"101,102\", \"accommodation_city\":\"Budapest\" } },\n",
    "#   {\n",
    "#   \"partner_name\": \"Partner_C\",\n",
    "#   \"accommodation_id\" :\"101\",\n",
    "#   \"accommodation_data\":{\n",
    "# \"accommodation_name\":\"The Budapest Hotel\", \"accommodation_address\":\"Budastrasse 88\", \"accommodation_geocodes\":\"101,103\", \"accommodation_city\":\"Budapest\"\n",
    "#     }\n",
    "# } ]\n",
    "# \"\"\")\n",
    "# with open('priority_list.txt', 'w') as p:\n",
    "#     p.write('''\n",
    "#     [\"Partner_A\",\n",
    "# \"Partner_B\",\n",
    "# \"Partner_C\"]\n",
    "#     ''')"
   ]
  },
  {
   "cell_type": "code",
   "execution_count": 23,
   "metadata": {},
   "outputs": [],
   "source": [
    "import os \n",
    "import json\n",
    "os.chdir('/Users/tak/Desktop/Tak/project/trivago/')\n",
    "def read_input_files(partner_list ,priority_list):\n",
    "    try:\n",
    "        # type:(str,str) -> list,list \n",
    "        with open(partner_list, 'r') as p:\n",
    "            partner_l = eval(p.read().strip())\n",
    "        with open(priority_list, 'r') as p:\n",
    "            priority_l = eval(p.read().strip())\n",
    "        return partner_l, priority_l\n",
    "    except Exception as e:\n",
    "        print(e)\n",
    "\n",
    "partner,priority = read_input_files('partner_list copy.txt','priority_list.txt')\n",
    "#/Users/tak/Desktop/Tak/project/trivago/partner_list copy.txt"
   ]
  },
  {
   "cell_type": "code",
   "execution_count": 24,
   "metadata": {},
   "outputs": [
    {
     "output_type": "execute_result",
     "data": {
      "text/plain": [
       "(1009, 205)"
      ]
     },
     "metadata": {},
     "execution_count": 24
    }
   ],
   "source": [
    "#partner,priority = read_input_files('partner_list copy.txt','priority_list.txt')\n",
    "len(partner), len(priority)"
   ]
  },
  {
   "cell_type": "code",
   "execution_count": 123,
   "metadata": {},
   "outputs": [],
   "source": [
    "def consolidate(partner_list ,priority_list):\n",
    "    # type:(list,list) -> dict\n",
    "    \"\"\"\n",
    "    Details consolidation logic:\n",
    "    1. Create a temp index list \n",
    "    2. for every item in parnter list, get the index(i.e. ranking from 0 to len(priority list)-1)\n",
    "    3. Assume that exist some partner is not in priority list, we use try/excpet to handle this case and assign the ranking = 100 (max rank = 99 so 100 is the exceptional case)\n",
    "    4. Get the mininum index(i.e. highest rank) and assign the index to min_index\n",
    "    5. condition min_index < 100 is to ensure at least one parnter is in priority list, return the details without partner_name\n",
    "    6. If we cannot find any partner within priority list, return None\n",
    "\n",
    "    Assumption:\n",
    "    if duplicated partner are found in partner list, we assume the hotel name would be same.\n",
    "\n",
    "    Args:\n",
    "        partner_list (list): partner detail list\n",
    "        priority_list (list): priority ranking list\n",
    "    \"\"\"\n",
    "    temp_index_list=[]\n",
    "    for item in partner_list:\n",
    "        try:\n",
    "            temp_index_list.append(priority.index(item['partner_name'])) \n",
    "        except:\n",
    "            temp_index_list.append(100)\n",
    "    min_index = temp_index_list.index(min(temp_index_list))\n",
    "    if min(temp_index_list) <100: ##i.e. we can find a partner within priority list\n",
    "        result = {k:v for k,v in partner_list[min_index].items() if k != 'partner_name'}\n",
    "        result['accommodation_data'] = {k:v for k,v in result['accommodation_data'].items() if k =='accommodation_name'}\n",
    "        return result\n",
    "    else:\n",
    "        print('No partner can be found within priority list.')\n",
    "        return None\n",
    "\n"
   ]
  },
  {
   "cell_type": "code",
   "execution_count": 126,
   "metadata": {},
   "outputs": [
    {
     "output_type": "stream",
     "name": "stdout",
     "text": [
      "0\nCPU times: user 252 µs, sys: 135 µs, total: 387 µs\nWall time: 295 µs\n"
     ]
    },
    {
     "output_type": "execute_result",
     "data": {
      "text/plain": [
       "{'accommodation_id': '101',\n",
       " 'accommodation_data': {'accommodation_name': 'The Grand Budapest Hotel 1'}}"
      ]
     },
     "metadata": {},
     "execution_count": 126
    }
   ],
   "source": [
    "%%time\n",
    "#consolidate(partner,priority)\n",
    "consolidate(partner,priority)"
   ]
  },
  {
   "cell_type": "code",
   "execution_count": 101,
   "metadata": {},
   "outputs": [
    {
     "output_type": "execute_result",
     "data": {
      "text/plain": [
       "['Partner_A', 'Partner_B', 'Partner_C']"
      ]
     },
     "metadata": {},
     "execution_count": 101
    }
   ],
   "source": []
  },
  {
   "cell_type": "code",
   "execution_count": 67,
   "metadata": {},
   "outputs": [],
   "source": [
    "os.chdir('/Users/tak/Desktop/Tak/project/trivago/')\n"
   ]
  },
  {
   "cell_type": "code",
   "execution_count": 11,
   "metadata": {},
   "outputs": [
    {
     "output_type": "stream",
     "name": "stdout",
     "text": [
      "{'accommodation_id': '101', 'accommodation_data': {'accommodation_name': 'The Grand Budapest Hotel 1'}}\n"
     ]
    }
   ],
   "source": [
    "import os \n",
    "import json\n",
    "import sys\n",
    "\n",
    "class Consolidate_recommendation:\n",
    "    def __init__(self,partner_loc ,priority_loc):\n",
    "        self.partner_loc = partner_loc\n",
    "        self.priority_loc = priority_loc\n",
    "\n",
    "    def read_input_files(self):\n",
    "        try:\n",
    "            # type:(str,str) -> list,list \n",
    "            with open(self.partner_loc, 'r') as p:\n",
    "                self.partner_l = eval(p.read().strip())\n",
    "            with open(self.priority_loc, 'r') as p:\n",
    "                self.priority_l = eval(p.read().strip())\n",
    "            return self.partner_l, self.priority_l\n",
    "        except Exception as e:\n",
    "            print(e)\n",
    "            return None\n",
    "            \n",
    "\n",
    "    def consolidate(self):\n",
    "        # type:(list,list) -> dict\n",
    "        \"\"\"\n",
    "        Details consolidation logic:\n",
    "        1. Create a temp index list \n",
    "        2. for every item in parnter list, get the index(i.e. ranking from 0 to len(priority list)-1)\n",
    "        3. Assume that exist some partner is not in priority list, we use try/excpet to handle this case and assign the ranking = 100 (max rank = 99 so 100 is the exceptional case)\n",
    "        4. Get the mininum index(i.e. highest rank) and assign the index to min_index\n",
    "        5. condition min_index < 100 is to ensure at least one parnter is in priority list, return the details without partner_name\n",
    "        6. If we cannot find any partner within priority list, return None\n",
    "\n",
    "        Assumption:\n",
    "        if duplicated partner are found in partner list, we assume the hotel name would be same.\n",
    "\n",
    "        Args:\n",
    "            partner_list (list): partner detail list\n",
    "            priority_list (list): priority ranking list\n",
    "        \"\"\"\n",
    "        self.temp_index_list=[]\n",
    "        for item in self.partner_l:\n",
    "            try:\n",
    "                self.temp_index_list.append(self.priority_l.index(item['partner_name'])) \n",
    "            except:\n",
    "                self.temp_index_list.append(100)\n",
    "        min_index = self.temp_index_list.index(min(self.temp_index_list))\n",
    "        if min(self.temp_index_list) <100: ##i.e. we can find a partner within priority list\n",
    "            result = {k:v for k,v in self.partner_l[min_index].items() if k != 'partner_name'}\n",
    "            result['accommodation_data'] = {k:v for k,v in result['accommodation_data'].items() if k =='accommodation_name'}\n",
    "            return result\n",
    "        else:\n",
    "            print('No partner can be found within priority list.')\n",
    "            return None\n",
    "\n",
    "if __name__ == \"__main__\":\n",
    "    partner_loc = input(\"Please enter the location of partner file, the file should contain the list of collection of dictionary: (e.g./Users/tak/Desktop/partner.txt)\") \n",
    "    priority_loc = input(\"Please enter the location of priority_file, the file should contain the list of partner in priority order: (e.g./Users/tak/Desktop/priortiy.txt)\") \n",
    "    C = Consolidate_recommendation(partner_loc,priority_loc)\n",
    "    if not C.read_input_files():\n",
    "        sys.exit(0)\n",
    "    print(C.consolidate())\n",
    "    \n",
    "\n",
    "\n"
   ]
  },
  {
   "cell_type": "code",
   "execution_count": null,
   "metadata": {},
   "outputs": [],
   "source": []
  }
 ]
}